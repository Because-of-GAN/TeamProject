{
 "cells": [
  {
   "cell_type": "code",
   "execution_count": 34,
   "metadata": {},
   "outputs": [],
   "source": [
    "import os\n",
    "import numpy as np\n",
    "import cv2\n",
    "import matplotlib.pyplot as plt\n",
    "from scipy.ndimage.filters import median_filter"
   ]
  },
  {
   "cell_type": "code",
   "execution_count": 91,
   "metadata": {},
   "outputs": [],
   "source": [
    "dirlist = os.listdir('C:/Users/User/Desktop/aaaa')"
   ]
  },
  {
   "cell_type": "code",
   "execution_count": 89,
   "metadata": {},
   "outputs": [],
   "source": [
    "import os\n",
    "os.chdir(\"C:/Users/User/Desktop/aaaa\")"
   ]
  },
  {
   "cell_type": "markdown",
   "metadata": {},
   "source": [
    "# Canny"
   ]
  },
  {
   "cell_type": "code",
   "execution_count": 97,
   "metadata": {
    "scrolled": true
   },
   "outputs": [],
   "source": [
    "import numpy as np\n",
    "import cv2\n",
    "import matplotlib.pyplot as plt\n",
    "\n",
    "for i in dirlist:\n",
    "    \n",
    "    img2 = os.path.join('C:/Users/User/Desktop/aaaa',i)\n",
    "    img = cv2.imread(img2,cv2.IMREAD_GRAYSCALE)\n",
    "    edge = cv2.Canny(img,50,200)\n",
    "    \n",
    "    cv2.imwrite(f'b{i}',edge)"
   ]
  },
  {
   "cell_type": "markdown",
   "metadata": {},
   "source": [
    "# 아웃라인 따기"
   ]
  },
  {
   "cell_type": "code",
   "execution_count": 93,
   "metadata": {},
   "outputs": [],
   "source": [
    "import cv2\n",
    "for e,i in enumerate(dirlist):\n",
    "    img2 = os.path.join('C:/Users/User/Desktop/aaaa',i)\n",
    "    img = cv2.imread(img2)\n",
    "    #blur = cv2.GaussianBlur(img,(7,7),0)\n",
    "    #median = cv2.medianBlur(img,9)\n",
    "    blur2 = cv2.bilateralFilter(img,9,180,180)\n",
    "\n",
    "\n",
    "    #cv2.imshow('Result', blur2)\n",
    "    edge = cv2.Canny(blur2,50,200)\n",
    "    #cv2.imshow(\"edge\",img)\n",
    "    cv2.imwrite(f'{i}',edge)\n",
    "    \n",
    "    \n"
   ]
  },
  {
   "cell_type": "code",
   "execution_count": 82,
   "metadata": {},
   "outputs": [],
   "source": [
    "def unsharp(image, sigma, strength):\n",
    " \n",
    "    # Median filtering\n",
    "    image_mf = median_filter(image, sigma)\n",
    " \n",
    "    # Calculate the Laplacian\n",
    "    lap = cv2.Laplacian(image_mf,cv2.CV_64F)\n",
    " \n",
    "    # Calculate the sharpened image\n",
    "    sharp = image-strength*lap\n",
    "    \n",
    "    return sharp"
   ]
  },
  {
   "cell_type": "code",
   "execution_count": 90,
   "metadata": {},
   "outputs": [],
   "source": [
    "original_image = plt.imread('C:/Users/User/Desktop/a/1.jpg')\n",
    "\n",
    "sharp1 = np.zeros_like(original_image)\n",
    "for i in range(3):\n",
    "    sharp1[:,:,i] = unsharp(original_image[:,:,i], 5, 0.8)\n",
    "\n",
    "    "
   ]
  },
  {
   "cell_type": "code",
   "execution_count": 76,
   "metadata": {},
   "outputs": [],
   "source": [
    "def upgradepic(a):\n",
    "    blur = cv2.GaussianBlur(a,(3,3),0)\n",
    "    median = cv2.medianBlur(blur,5)\n",
    "    blur2 = cv2.bilateralFilter(median,-1,15,15)\n",
    "    return blur2;"
   ]
  },
  {
   "cell_type": "code",
   "execution_count": 81,
   "metadata": {},
   "outputs": [],
   "source": [
    "#img2 = os.path.join('C:/Users/User/Downloads/img-20190825T071609Z-001/img',i)\n",
    "img = cv2.imread(\"C:/Users/User/Desktop/a/1.jpg\")\n",
    "for i in range(3):    \n",
    "        upgradepic(img)\n",
    "\n",
    "#cv2.imshow(\"G\",blur)\n",
    "#cv2.imshow('M', median)\n",
    "#edge = cv2.Canny(blur2,200,200)\n",
    "#edge = cv2.bitwise_not(edge)\n",
    "cv2.imshow(\"B\",blur2)\n",
    "# cv2.imwrite(f'sketch{i}',edge)\n",
    "    \n",
    "cv2.waitKey(0)\n",
    "cv2.destroyAllWindows()"
   ]
  },
  {
   "cell_type": "code",
   "execution_count": null,
   "metadata": {},
   "outputs": [],
   "source": [
    "import cv2\n",
    "import numpy as np\n",
    "\n",
    "img = cv2.imread('images/rectangle.jpg')\n",
    "imgray = cv2.cvtColor(img,cv2.COLOR_BGR2GRAY)\n",
    "\n",
    "#threshold를 이용하여 binary image로 변환\n",
    "ret, thresh = cv2.threshold(imgray,127,255,0)\n",
    "\n",
    "#contours는 point의 list형태. 예제에서는 사각형이 하나의 contours line을 구성하기 때문에 len(contours) = 1. 값은 사각형의 꼭지점 좌표.\n",
    "#hierachy는 contours line의 계층 구조\n",
    "image, contours, hierachy = cv2.findContours(thresh, cv2.RETR_TREE,cv2.CHAIN_APPROX_SIMPLE)\n",
    "image = cv2.drawContours(img, contours, -1, (0,255,0), 3)\n",
    "\n",
    "cv2.imshow('image', image)\n",
    "cv2.waitKey(0)\n",
    "cv2.destroyAllWindows()\n"
   ]
  }
 ],
 "metadata": {
  "kernelspec": {
   "display_name": "Python 3",
   "language": "python",
   "name": "python3"
  },
  "language_info": {
   "codemirror_mode": {
    "name": "ipython",
    "version": 3
   },
   "file_extension": ".py",
   "mimetype": "text/x-python",
   "name": "python",
   "nbconvert_exporter": "python",
   "pygments_lexer": "ipython3",
   "version": "3.7.3"
  }
 },
 "nbformat": 4,
 "nbformat_minor": 2
}
